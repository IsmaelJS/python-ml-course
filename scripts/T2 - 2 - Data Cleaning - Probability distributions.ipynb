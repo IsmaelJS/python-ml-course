{
 "cells": [
  {
   "cell_type": "markdown",
   "metadata": {},
   "source": [
    "# Probability distributions"
   ]
  },
  {
   "cell_type": "markdown",
   "metadata": {},
   "source": [
    "## Uniform distribution"
   ]
  },
  {
   "cell_type": "code",
   "execution_count": 1,
   "metadata": {},
   "outputs": [
    {
     "data": {
      "text/plain": [
       "(array([ 99448.,  99790.,  99907., 100304., 100158., 100117.,  99627.,\n",
       "        100127., 100424., 100098.]),\n",
       " array([1.00000035, 1.10000025, 1.20000016, 1.30000007, 1.39999998,\n",
       "        1.49999989, 1.5999998 , 1.69999971, 1.79999962, 1.89999953,\n",
       "        1.99999943]),\n",
       " <BarContainer object of 10 artists>)"
      ]
     },
     "execution_count": 1,
     "metadata": {},
     "output_type": "execute_result"
    },
    {
     "data": {
      "image/png": "[encoded data removed]",
      "text/plain": [
       "<Figure size 432x288 with 1 Axes>"
      ]
     },
     "metadata": {
      "needs_background": "light"
     },
     "output_type": "display_data"
    }
   ],
   "source": [
    "import numpy as np\n",
    "import matplotlib.pyplot as plt\n",
    "import pandas as pd\n",
    "\n",
    "# Increment the number of samples in order to get a great uniform distribution\n",
    "a = 1\n",
    "b = 2\n",
    "n = 1000000\n",
    "data = np.random.uniform(a, b, n)\n",
    "%matplotlib inline\n",
    "plt.hist(data)"
   ]
  },
  {
   "cell_type": "markdown",
   "metadata": {},
   "source": [
    "## Normal distributions"
   ]
  },
  {
   "cell_type": "code",
   "execution_count": 27,
   "metadata": {},
   "outputs": [
    {
     "data": {
      "text/plain": [
       "(array([1.000e+00, 2.700e+01, 2.300e+02, 8.790e+02, 2.177e+03, 3.118e+03,\n",
       "        2.347e+03, 9.900e+02, 2.040e+02, 2.700e+01]),\n",
       " array([-4.43926861, -3.64272913, -2.84618964, -2.04965016, -1.25311068,\n",
       "        -0.4565712 ,  0.33996828,  1.13650776,  1.93304724,  2.72958672,\n",
       "         3.5261262 ]),\n",
       " <BarContainer object of 10 artists>)"
      ]
     },
     "execution_count": 27,
     "metadata": {},
     "output_type": "execute_result"
    },
    {
     "data": {
      "image/png": "[encoded data removed]",
      "text/plain": [
       "<Figure size 432x288 with 1 Axes>"
      ]
     },
     "metadata": {
      "needs_background": "light"
     },
     "output_type": "display_data"
    }
   ],
   "source": [
    "# Mean=0 and sigma=1\n",
    "n = 10000\n",
    "data = np.random.randn(n)\n",
    "x = range(1,n+1)\n",
    "\n",
    "plt.plot(x, data)\n",
    "%matplotlib inline\n",
    "\n",
    "plt.hist(data)\n",
    "\n",
    "#"
   ]
  },
  {
   "cell_type": "markdown",
   "metadata": {},
   "source": [
    "## Montecarlo method - compute pi number"
   ]
  },
  {
   "cell_type": "markdown",
   "metadata": {},
   "source": [
    "In this section I compute an approximation of pi number by using montecarlo method.\n",
    "I assume that the probability of fall in the circle is the area of the circle divided by the area of the square.\n",
    "I will simulate this probability by computing two numbers (x and y), and based on Pithagoras theorem, if the calculus  \n",
    "* x^2 + y^2 > 1  -- Fall out the circle\n",
    "* x^2 + y^2 < 1 --  Fall inside the circle"
   ]
  },
  {
   "cell_type": "code",
   "execution_count": 12,
   "metadata": {},
   "outputs": [
    {
     "name": "stdout",
     "output_type": "stream",
     "text": [
      "Average of pi number: 3.1432520000000004\n"
     ]
    }
   ],
   "source": [
    "import numpy as np\n",
    "n = 1000\n",
    "aprox_list = []\n",
    "\n",
    "def compute_pi_number(samples=1000):\n",
    "    p_array = np.array([])\n",
    "    for _ in range(n):\n",
    "        x, y = np.random.uniform(size=2)\n",
    "        p_array = np.append(p_array, x**2 + y**2)\n",
    "    return np.count_nonzero(p_array<1) / len(p_array) * 4\n",
    "\n",
    "\n",
    "for _ in range(n):\n",
    "    aprox_list.append(compute_pi_number())\n",
    "\n",
    "print(f\"Average of pi number: {np.sum(aprox_list) / len(aprox_list)}\")\n",
    "\n"
   ]
  },
  {
   "cell_type": "markdown",
   "metadata": {},
   "source": [
    "## generate dummy dataset"
   ]
  },
  {
   "cell_type": "code",
   "execution_count": 22,
   "metadata": {},
   "outputs": [
    {
     "name": "stdout",
     "output_type": "stream",
     "text": [
      "0       18.596232\n",
      "1       19.602252\n",
      "2       17.238724\n",
      "3       16.937840\n",
      "4       13.761220\n",
      "          ...    \n",
      "9995    18.667618\n",
      "9996    12.034862\n",
      "9997    14.664267\n",
      "9998    16.338987\n",
      "9999    14.996959\n",
      "Name: B_numeric, Length: 10000, dtype: float64\n",
      "108 µs ± 2.48 µs per loop (mean ± std. dev. of 7 runs, 10000 loops each)\n"
     ]
    },
    {
     "data": {
      "text/plain": [
       "(array([  17.,  157.,  694., 1815., 2802., 2587., 1383.,  451.,   85.,\n",
       "           9.]),\n",
       " array([-3.58969279, -2.84779391, -2.10589503, -1.36399615, -0.62209727,\n",
       "         0.11980161,  0.86170049,  1.60359937,  2.34549825,  3.08739712,\n",
       "         3.829296  ]),\n",
       " <BarContainer object of 10 artists>)"
      ]
     },
     "execution_count": 22,
     "metadata": {},
     "output_type": "execute_result"
    },
    {
     "data": {
      "image/png": "[encoded data removed]",
      "text/plain": [
       "<Figure size 432x288 with 1 Axes>"
      ]
     },
     "metadata": {
      "needs_background": "light"
     },
     "output_type": "display_data"
    }
   ],
   "source": [
    "n = 10000\n",
    "dummy_ds = pd.DataFrame(\n",
    "{\n",
    "    'A_numeric': np.random.randn(n),\n",
    "    'B_numeric': np.random.uniform(10,20,n),\n",
    "    'C_categoric': np.random.choice([\"green\", \"blue\", \"brown\"], n)\n",
    "})\n",
    "dummy_ds.describe()\n",
    "print(dummy_ds[\"B_numeric\"])\n",
    "%timeit dummy_ds.loc[999]\n",
    "plt.hist(dummy_ds[\"A_numeric\"])\n"
   ]
  },
  {
   "cell_type": "code",
   "execution_count": null,
   "metadata": {},
   "outputs": [],
   "source": []
  }
 ],
 "metadata": {
  "kernelspec": {
   "display_name": "Python 3",
   "language": "python",
   "name": "python3"
  },
  "language_info": {
   "codemirror_mode": {
    "name": "ipython",
    "version": 3
   },
   "file_extension": ".py",
   "mimetype": "text/x-python",
   "name": "python",
   "nbconvert_exporter": "python",
   "pygments_lexer": "ipython3",
   "version": "3.8.4"
  }
 },
 "nbformat": 4,
 "nbformat_minor": 4
}
