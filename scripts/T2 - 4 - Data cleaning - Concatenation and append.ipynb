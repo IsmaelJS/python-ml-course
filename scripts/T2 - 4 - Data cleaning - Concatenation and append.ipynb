{
 "cells": [
  {
   "cell_type": "markdown",
   "metadata": {},
   "source": [
    "## concat datasets"
   ]
  },
  {
   "cell_type": "code",
   "execution_count": 2,
   "metadata": {},
   "outputs": [
    {
     "data": {
      "text/plain": [
       "6497"
      ]
     },
     "execution_count": 2,
     "metadata": {},
     "output_type": "execute_result"
    }
   ],
   "source": [
    "import pandas as pd\n",
    "\n",
    "red_wine = pd.read_csv(\"../datasets/wine/winequality-red.csv\", sep=\";\")\n",
    "white_wine = pd.read_csv(\"../datasets/wine/winequality-white.csv\", sep=\";\")\n",
    "\n",
    "# Concat datasets.  axis=0 for horizontal concat. Dataset order matters.\n",
    "\n",
    "concat_df = pd.concat([red_wine, white_wine], axis=0) \n",
    "\n",
    "len(concat_df)\n"
   ]
  },
  {
   "cell_type": "markdown",
   "metadata": {},
   "source": [
    "## Ingest distributed data"
   ]
  },
  {
   "cell_type": "code",
   "execution_count": 3,
   "metadata": {},
   "outputs": [
    {
     "data": {
      "text/plain": [
       "(772087, 4)"
      ]
     },
     "execution_count": 3,
     "metadata": {},
     "output_type": "execute_result"
    }
   ],
   "source": [
    "import pandas as pd\n",
    "\n",
    "filepath = \"../datasets/distributed-data\"\n",
    "\n",
    "data = pd.read_csv(f\"{filepath}/001.csv\")\n",
    "\n",
    "for i in range(2, 333):\n",
    "    if i < 10:\n",
    "      filename = f\"00{i}.csv\"\n",
    "    elif i >= 10 and i < 100:\n",
    "        filename = f\"0{i}.csv\"\n",
    "    else:\n",
    "        filename = f\"{i}.csv\"\n",
    "    \n",
    "    data_tmp = pd.read_csv(f\"{filepath}/{filename}\")\n",
    "    data = pd.concat([data, data_tmp])\n",
    "\n",
    "data.shape"
   ]
  },
  {
   "cell_type": "markdown",
   "metadata": {},
   "source": [
    "## Merge and join datasets"
   ]
  },
  {
   "cell_type": "code",
   "execution_count": 4,
   "metadata": {},
   "outputs": [],
   "source": [
    "file_path = \"../datasets/athletes/\"\n",
    "\n",
    "# Import athletes datasets\n",
    "\n",
    "df_medals = pd.read_csv(file_path + \"Medals.csv\", encoding=\"ISO-8859-1\")\n",
    "\n",
    "df_country = pd.read_csv(file_path + \"Athelete_Country_Map.csv\", encoding=\"ISO-8859-1\")\n",
    "\n",
    "df_sport = pd.read_csv(file_path + \"Athelete_Sports_Map.csv\", encoding=\"ISO-8859-1\")\n",
    "\n"
   ]
  },
  {
   "cell_type": "code",
   "execution_count": 5,
   "metadata": {},
   "outputs": [
    {
     "data": {
      "text/plain": [
       "(6970, 2)"
      ]
     },
     "execution_count": 5,
     "metadata": {},
     "output_type": "execute_result"
    }
   ],
   "source": [
    "df_country.shape"
   ]
  },
  {
   "cell_type": "code",
   "execution_count": 6,
   "metadata": {},
   "outputs": [
    {
     "data": {
      "text/plain": [
       "(6975, 2)"
      ]
     },
     "execution_count": 6,
     "metadata": {},
     "output_type": "execute_result"
    }
   ],
   "source": [
    "df_sport.shape"
   ]
  },
  {
   "cell_type": "code",
   "execution_count": 7,
   "metadata": {},
   "outputs": [
    {
     "data": {
      "text/plain": [
       "(8618, 8)"
      ]
     },
     "execution_count": 7,
     "metadata": {},
     "output_type": "execute_result"
    }
   ],
   "source": [
    "df_medals.shape"
   ]
  },
  {
   "cell_type": "code",
   "execution_count": 8,
   "metadata": {},
   "outputs": [
    {
     "data": {
      "text/plain": [
       "(6956,)"
      ]
     },
     "execution_count": 8,
     "metadata": {},
     "output_type": "execute_result"
    }
   ],
   "source": [
    "df_medals[\"Athlete\"].unique().shape"
   ]
  },
  {
   "cell_type": "code",
   "execution_count": 9,
   "metadata": {},
   "outputs": [],
   "source": [
    "df_country_wdp = df_country.drop_duplicates(subset=\"Athlete\")\n",
    "df_sport_wdp = df_sport.drop_duplicates(subset=\"Athlete\")"
   ]
  },
  {
   "cell_type": "code",
   "execution_count": 18,
   "metadata": {},
   "outputs": [],
   "source": [
    "df_merge_1 = df_medals.merge(df_country_wdp, left_on=\"Athlete\", right_on=\"Athlete\")"
   ]
  },
  {
   "cell_type": "code",
   "execution_count": 20,
   "metadata": {},
   "outputs": [],
   "source": [
    "df_merge_2 = df_merge_1.merge(df_sport_wdp, left_on=\"Athlete\", right_on=\"Athlete\")"
   ]
  },
  {
   "cell_type": "code",
   "execution_count": 22,
   "metadata": {},
   "outputs": [
    {
     "data": {
      "text/plain": [
       "8618"
      ]
     },
     "execution_count": 22,
     "metadata": {},
     "output_type": "execute_result"
    }
   ],
   "source": [
    "df_merge_2.head()\n",
    "len(df_merge_2)"
   ]
  },
  {
   "cell_type": "markdown",
   "metadata": {},
   "source": [
    "# Formas de cruzar tablas con joins"
   ]
  },
  {
   "cell_type": "code",
   "execution_count": null,
   "metadata": {},
   "outputs": [],
   "source": []
  }
 ],
 "metadata": {
  "kernelspec": {
   "display_name": "Python 3",
   "language": "python",
   "name": "python3"
  },
  "language_info": {
   "codemirror_mode": {
    "name": "ipython",
    "version": 3
   },
   "file_extension": ".py",
   "mimetype": "text/x-python",
   "name": "python",
   "nbconvert_exporter": "python",
   "pygments_lexer": "ipython3",
   "version": "3.8.4"
  }
 },
 "nbformat": 4,
 "nbformat_minor": 4
}
