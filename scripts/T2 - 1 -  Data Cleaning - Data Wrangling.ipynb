{
 "cells": [
  {
   "cell_type": "markdown",
   "metadata": {},
   "source": [
    "# Data wrangling "
   ]
  },
  {
   "cell_type": "code",
   "execution_count": 46,
   "metadata": {},
   "outputs": [],
   "source": [
    "import pandas as pd\n",
    "\n",
    "data = pd.read_csv(\"../datasets/customer-churn-model/Customer Churn Model.txt\")\n"
   ]
  },
  {
   "cell_type": "markdown",
   "metadata": {},
   "source": [
    "## Create subset of a dataset\n"
   ]
  },
  {
   "cell_type": "code",
   "execution_count": 18,
   "metadata": {},
   "outputs": [],
   "source": [
    "# Select unique column from df\n",
    "phone_series = data[\"Phone\"]\n",
    "type(phone_series)\n",
    "# Select a set of columns/ Series type\n",
    "subset_df = data[[\"Account Length\", \"Phone\"]]"
   ]
  },
  {
   "cell_type": "code",
   "execution_count": 19,
   "metadata": {},
   "outputs": [
    {
     "data": {
      "text/plain": [
       "pandas.core.frame.DataFrame"
      ]
     },
     "execution_count": 19,
     "metadata": {},
     "output_type": "execute_result"
    }
   ],
   "source": [
    "subset_df.head()\n",
    "type(subset_df)"
   ]
  },
  {
   "cell_type": "code",
   "execution_count": 26,
   "metadata": {},
   "outputs": [
    {
     "data": {
      "text/plain": [
       "Index(['Churn?', 'CustServ Calls', 'Int'l Plan', 'VMail Message', 'Intl Mins',\n",
       "       'Area Code', 'Night Mins', 'Day Calls', 'Night Calls', 'Intl Charge',\n",
       "       'Eve Calls', 'Night Charge', 'VMail Plan', 'Eve Mins', 'Day Mins',\n",
       "       'Eve Charge', 'Day Charge', 'Intl Calls', 'State'],\n",
       "      dtype='object')"
      ]
     },
     "execution_count": 26,
     "metadata": {},
     "output_type": "execute_result"
    }
   ],
   "source": [
    "desired_list_cols = set(data.columns.values.tolist()) - set([\"Account Length\", \"Phone\"])\n",
    "subset_df = data[desired_list_cols]\n",
    "subset_df.columns"
   ]
  },
  {
   "cell_type": "markdown",
   "metadata": {},
   "source": [
    "## Row selection"
   ]
  },
  {
   "cell_type": "code",
   "execution_count": 41,
   "metadata": {},
   "outputs": [
    {
     "data": {
      "text/plain": [
       "(25, 21)"
      ]
     },
     "execution_count": 41,
     "metadata": {},
     "output_type": "execute_result"
    }
   ],
   "source": [
    "# range of rows\n",
    "data[:25].shape"
   ]
  },
  {
   "cell_type": "code",
   "execution_count": 42,
   "metadata": {},
   "outputs": [
    {
     "data": {
      "text/plain": [
       "(2, 21)"
      ]
     },
     "execution_count": 42,
     "metadata": {},
     "output_type": "execute_result"
    }
   ],
   "source": [
    "# Select rows with total mins > 500. Boolean Series in order to select the corrsponding rows\n",
    "\n",
    "data[data[\"Day Mins\"] > 300]\n",
    "\n",
    "# Select data based on several concatenated boolean conditions\n",
    "\n",
    "data[(data[\"State\"] == \"NY\") & (data[\"Day Mins\"]>300)].shape"
   ]
  },
  {
   "cell_type": "code",
   "execution_count": 48,
   "metadata": {},
   "outputs": [
    {
     "data": {
      "text/plain": [
       "(50, 3)"
      ]
     },
     "execution_count": 48,
     "metadata": {},
     "output_type": "execute_result"
    }
   ],
   "source": [
    "## Min Days, Min Night and Lenght of Account for first 50 rows\n",
    "\n",
    "data[[\"Night Mins\", \"Day Mins\", \"Account Length\"]][:50].shape"
   ]
  },
  {
   "cell_type": "code",
   "execution_count": 64,
   "metadata": {},
   "outputs": [],
   "source": [
    "# Select n rows and c columns with iloc command and slicing\n",
    "data.iloc[1:50, 2:5]\n",
    "\n",
    "# Select with loc using labels\n",
    "# New column as a result of sum of two\n",
    "\n",
    "data[\"Total Calls\"] = data[\"Night Calls\"] + data[\"Day Calls\"]"
   ]
  },
  {
   "cell_type": "code",
   "execution_count": 65,
   "metadata": {},
   "outputs": [
    {
     "data": {
      "text/plain": [
       "0       201\n",
       "1       226\n",
       "2       218\n",
       "3       160\n",
       "4       234\n",
       "       ... \n",
       "3328    160\n",
       "3329    180\n",
       "3330    200\n",
       "3331    242\n",
       "3332    190\n",
       "Name: Total Calls, Length: 3333, dtype: int64"
      ]
     },
     "execution_count": 65,
     "metadata": {},
     "output_type": "execute_result"
    }
   ],
   "source": [
    "data[\"Total Calls\"]"
   ]
  },
  {
   "cell_type": "markdown",
   "metadata": {},
   "source": [
    "### Generate random numbers"
   ]
  },
  {
   "cell_type": "code",
   "execution_count": 77,
   "metadata": {},
   "outputs": [
    {
     "data": {
      "text/plain": [
       "97"
      ]
     },
     "execution_count": 77,
     "metadata": {},
     "output_type": "execute_result"
    }
   ],
   "source": [
    "# For generating dummy datasets, sampling of data, etc\n",
    "\n",
    "import numpy as np\n",
    "\n",
    "# Set seed\n",
    "np.random.seed(2020)\n",
    "\n",
    "# Generate random int betwen 1 and 100\n",
    "np.random.randint(1,100)"
   ]
  },
  {
   "cell_type": "code",
   "execution_count": 83,
   "metadata": {},
   "outputs": [
    {
     "data": {
      "text/plain": [
       "0.975665482923206"
      ]
     },
     "execution_count": 83,
     "metadata": {},
     "output_type": "execute_result"
    }
   ],
   "source": [
    "# The most common way to generate a random number is a decimal number between 0 and 1\n",
    "np.random.random()"
   ]
  },
  {
   "cell_type": "code",
   "execution_count": 82,
   "metadata": {},
   "outputs": [
    {
     "data": {
      "text/plain": [
       "[63, 22, 30, 91, 7, 167, 151, 192, 150, 197]"
      ]
     },
     "execution_count": 82,
     "metadata": {},
     "output_type": "execute_result"
    }
   ],
   "source": [
    "# Function to generate a list of n random number between [a,b]\n",
    "\n",
    "def generate_random_list(total, a, b):\n",
    "    random_list = list()\n",
    "    for i in range(total):\n",
    "        random_list.append(np.random.randint(a,b))\n",
    "    return random_list\n",
    "generate_random_list(10, 1, 200)"
   ]
  },
  {
   "cell_type": "code",
   "execution_count": 75,
   "metadata": {},
   "outputs": [
    {
     "name": "stdout",
     "output_type": "stream",
     "text": [
      "original order: [0 1 2 3 4 5 6 7 8 9]\n",
      "shuffled: [3 1 0 2 7 4 5 8 9 6]\n"
     ]
    }
   ],
   "source": [
    "# Generate random number that are multiple\n",
    "import random\n",
    "\n",
    "random.randrange(0, 100, 5)\n",
    "\n",
    "# Shuffling\n",
    "a = np.arange(10)\n",
    "print(f\"original order: {a}\")\n",
    "np.random.shuffle(a)\n",
    "print(f\"shuffled: {a}\")"
   ]
  },
  {
   "cell_type": "code",
   "execution_count": 73,
   "metadata": {},
   "outputs": [
    {
     "data": {
      "text/plain": [
       "'VMail Message'"
      ]
     },
     "execution_count": 73,
     "metadata": {},
     "output_type": "execute_result"
    }
   ],
   "source": [
    "# Choice random element\n",
    "column_list = data.columns.values.tolist()\n",
    "np.random.choice(column_list)"
   ]
  },
  {
   "cell_type": "code",
   "execution_count": 68,
   "metadata": {
    "scrolled": true
   },
   "outputs": [
    {
     "data": {
      "text/plain": [
       "'Night Mins'"
      ]
     },
     "execution_count": 68,
     "metadata": {},
     "output_type": "execute_result"
    }
   ],
   "source": []
  }
 ],
 "metadata": {
  "kernelspec": {
   "display_name": "Python 3",
   "language": "python",
   "name": "python3"
  },
  "language_info": {
   "codemirror_mode": {
    "name": "ipython",
    "version": 3
   },
   "file_extension": ".py",
   "mimetype": "text/x-python",
   "name": "python",
   "nbconvert_exporter": "python",
   "pygments_lexer": "ipython3",
   "version": "3.8.4"
  }
 },
 "nbformat": 4,
 "nbformat_minor": 4
}
